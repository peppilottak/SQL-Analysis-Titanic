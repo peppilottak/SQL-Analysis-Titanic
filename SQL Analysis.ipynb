{
 "cells": [
  {
   "cell_type": "code",
   "execution_count": 1,
   "id": "d4caa919",
   "metadata": {},
   "outputs": [
    {
     "name": "stdout",
     "output_type": "stream",
     "text": [
      "Requirement already satisfied: kaggle in c:\\users\\peppi\\anaconda3\\lib\\site-packages (1.6.17)\n",
      "Requirement already satisfied: six>=1.10 in c:\\users\\peppi\\anaconda3\\lib\\site-packages (from kaggle) (1.16.0)\n",
      "Requirement already satisfied: certifi>=2023.7.22 in c:\\users\\peppi\\anaconda3\\lib\\site-packages (from kaggle) (2024.8.30)\n",
      "Requirement already satisfied: python-dateutil in c:\\users\\peppi\\anaconda3\\lib\\site-packages (from kaggle) (2.9.0.post0)\n",
      "Requirement already satisfied: requests in c:\\users\\peppi\\anaconda3\\lib\\site-packages (from kaggle) (2.32.2)\n",
      "Requirement already satisfied: tqdm in c:\\users\\peppi\\anaconda3\\lib\\site-packages (from kaggle) (4.66.4)\n",
      "Requirement already satisfied: python-slugify in c:\\users\\peppi\\anaconda3\\lib\\site-packages (from kaggle) (5.0.2)\n",
      "Requirement already satisfied: urllib3 in c:\\users\\peppi\\anaconda3\\lib\\site-packages (from kaggle) (2.2.2)\n",
      "Requirement already satisfied: bleach in c:\\users\\peppi\\anaconda3\\lib\\site-packages (from kaggle) (4.1.0)\n",
      "Requirement already satisfied: packaging in c:\\users\\peppi\\anaconda3\\lib\\site-packages (from bleach->kaggle) (23.2)\n",
      "Requirement already satisfied: webencodings in c:\\users\\peppi\\anaconda3\\lib\\site-packages (from bleach->kaggle) (0.5.1)\n",
      "Requirement already satisfied: text-unidecode>=1.3 in c:\\users\\peppi\\anaconda3\\lib\\site-packages (from python-slugify->kaggle) (1.3)\n",
      "Requirement already satisfied: charset-normalizer<4,>=2 in c:\\users\\peppi\\anaconda3\\lib\\site-packages (from requests->kaggle) (2.0.4)\n",
      "Requirement already satisfied: idna<4,>=2.5 in c:\\users\\peppi\\anaconda3\\lib\\site-packages (from requests->kaggle) (3.7)\n",
      "Requirement already satisfied: colorama in c:\\users\\peppi\\anaconda3\\lib\\site-packages (from tqdm->kaggle) (0.4.6)\n",
      "Note: you may need to restart the kernel to use updated packages.\n"
     ]
    }
   ],
   "source": [
    "pip install kaggle"
   ]
  },
  {
   "cell_type": "code",
   "execution_count": 2,
   "id": "c8a7c3ca-defd-4af5-9546-ae50cfa0e38e",
   "metadata": {},
   "outputs": [],
   "source": [
    "# import libarys\n",
    "import sqlite3\n",
    "import pandas as pd\n",
    "import zipfile"
   ]
  },
  {
   "cell_type": "code",
   "execution_count": 3,
   "id": "e285ffc5-ccbc-4a84-b960-e9d443be256d",
   "metadata": {},
   "outputs": [
    {
     "name": "stdout",
     "output_type": "stream",
     "text": [
      "Dataset URL: https://www.kaggle.com/datasets/heptapod/titanic\n",
      "License(s): DbCL-1.0\n",
      "titanic.zip: Skipping, found more recently modified local copy (use --force to force download)\n"
     ]
    }
   ],
   "source": [
    "# download dataset form Kaggle\n",
    "!kaggle datasets download -d heptapod/titanic"
   ]
  },
  {
   "cell_type": "code",
   "execution_count": 4,
   "id": "4dbc96fa",
   "metadata": {},
   "outputs": [],
   "source": [
    "# extracting the dataset\n",
    "with zipfile.ZipFile(\"titanic.zip\", 'r') as zip_ref:\n",
    "    zip_ref.extractall(\"titanic_data\")"
   ]
  },
  {
   "cell_type": "code",
   "execution_count": 5,
   "id": "ca3d9344",
   "metadata": {},
   "outputs": [],
   "source": [
    "# load the dataset\n",
    "df = pd.read_csv(\"titanic_data_train.csv\")"
   ]
  },
  {
   "cell_type": "code",
   "execution_count": 6,
   "id": "4cc49d89-3390-4c8b-8866-fc021f1eba38",
   "metadata": {},
   "outputs": [
    {
     "name": "stdout",
     "output_type": "stream",
     "text": [
      "Dataset Preview:\n",
      "   Passengerid   Age     Fare  Sex  sibsp  zero  zero.1  zero.2  zero.3  \\\n",
      "0            1  22.0   7.2500    0      1     0       0       0       0   \n",
      "1            2  38.0  71.2833    1      1     0       0       0       0   \n",
      "2            3  26.0   7.9250    1      0     0       0       0       0   \n",
      "3            4  35.0  53.1000    1      1     0       0       0       0   \n",
      "4            5  35.0   8.0500    0      0     0       0       0       0   \n",
      "\n",
      "   zero.4  ...  zero.12  zero.13  zero.14  Pclass  zero.15  zero.16  Embarked  \\\n",
      "0       0  ...        0        0        0       3        0        0       2.0   \n",
      "1       0  ...        0        0        0       1        0        0       0.0   \n",
      "2       0  ...        0        0        0       3        0        0       2.0   \n",
      "3       0  ...        0        0        0       1        0        0       2.0   \n",
      "4       0  ...        0        0        0       3        0        0       2.0   \n",
      "\n",
      "   zero.17  zero.18  2urvived  \n",
      "0        0        0         0  \n",
      "1        0        0         1  \n",
      "2        0        0         1  \n",
      "3        0        0         1  \n",
      "4        0        0         0  \n",
      "\n",
      "[5 rows x 28 columns]\n"
     ]
    }
   ],
   "source": [
    "# display the first few rows of the dataset\n",
    "print(\"Dataset Preview:\")\n",
    "print(df.head())"
   ]
  },
  {
   "cell_type": "code",
   "execution_count": 7,
   "id": "fd63fae9-d7e1-433a-bf1c-dacbb858cfd9",
   "metadata": {},
   "outputs": [
    {
     "data": {
      "text/plain": [
       "1309"
      ]
     },
     "execution_count": 7,
     "metadata": {},
     "output_type": "execute_result"
    }
   ],
   "source": [
    "# create a SQLite database and load the DataFrame into it\n",
    "conn = sqlite3.connect('titanic.db')\n",
    "df.to_sql('titanic', conn, if_exists='replace', index=False)"
   ]
  },
  {
   "cell_type": "code",
   "execution_count": 8,
   "id": "a455afbb-8f91-4d5b-a024-7f695bc25280",
   "metadata": {},
   "outputs": [
    {
     "name": "stdout",
     "output_type": "stream",
     "text": [
      "Index(['Passengerid', 'Age', 'Fare', 'Sex', 'sibsp', 'zero', 'zero.1',\n",
      "       'zero.2', 'zero.3', 'zero.4', 'zero.5', 'zero.6', 'Parch', 'zero.7',\n",
      "       'zero.8', 'zero.9', 'zero.10', 'zero.11', 'zero.12', 'zero.13',\n",
      "       'zero.14', 'Pclass', 'zero.15', 'zero.16', 'Embarked', 'zero.17',\n",
      "       'zero.18', '2urvived'],\n",
      "      dtype='object')\n"
     ]
    }
   ],
   "source": [
    "print(df.columns)"
   ]
  },
  {
   "cell_type": "code",
   "execution_count": 9,
   "id": "8db0795e-8df6-417e-a60d-e2e3242fd493",
   "metadata": {},
   "outputs": [
    {
     "name": "stdout",
     "output_type": "stream",
     "text": [
      "Index(['Passengerid', 'Age', 'Fare', 'Sex', 'sibsp', 'zero', 'zero.1',\n",
      "       'zero.2', 'zero.3', 'zero.4', 'zero.5', 'zero.6', 'Parch', 'zero.7',\n",
      "       'zero.8', 'zero.9', 'zero.10', 'zero.11', 'zero.12', 'zero.13',\n",
      "       'zero.14', 'Pclass', 'zero.15', 'zero.16', 'Embarked', 'zero.17',\n",
      "       'zero.18', 'Survived'],\n",
      "      dtype='object')\n"
     ]
    }
   ],
   "source": [
    "# rename the problematic column\n",
    "df.rename(columns={\"2urvived\": \"Survived\"}, inplace=True)\n",
    "\n",
    "# verify the column names\n",
    "print(df.columns)"
   ]
  },
  {
   "cell_type": "code",
   "execution_count": 10,
   "id": "d80d5a1b-4025-4ad6-83a2-d1cf279467a2",
   "metadata": {},
   "outputs": [
    {
     "data": {
      "text/plain": [
       "1309"
      ]
     },
     "execution_count": 10,
     "metadata": {},
     "output_type": "execute_result"
    }
   ],
   "source": [
    "# reload the updated DataFrame into SQLite\n",
    "df.to_sql('titanic', conn, if_exists='replace', index=False)"
   ]
  },
  {
   "cell_type": "code",
   "execution_count": 11,
   "id": "1ee1b262-f629-4950-8a2c-0d4580b08ffe",
   "metadata": {},
   "outputs": [
    {
     "name": "stdout",
     "output_type": "stream",
     "text": [
      "\n",
      "Query 1: Count the number of passengers in each class\n",
      "   Pclass  PassengerCount\n",
      "0       3             709\n",
      "1       1             323\n",
      "2       2             277\n"
     ]
    }
   ],
   "source": [
    "# SQL Query\n",
    "print(\"\\nQuery 1: Count the number of passengers in each class\")\n",
    "query_1 = \"\"\"\n",
    "SELECT Pclass, COUNT(*) AS PassengerCount\n",
    "FROM titanic\n",
    "GROUP BY Pclass\n",
    "ORDER BY PassengerCount DESC\n",
    "\"\"\"\n",
    "result_1 = pd.read_sql_query(query_1, conn)\n",
    "print(result_1)"
   ]
  },
  {
   "cell_type": "code",
   "execution_count": 12,
   "id": "33c8305a-4a03-45bf-9da3-6540fd7dbe2d",
   "metadata": {},
   "outputs": [
    {
     "name": "stdout",
     "output_type": "stream",
     "text": [
      "\n",
      "Query 2: Calculate the survival rate for each gender\n",
      "   Sex  SurvivalRate\n",
      "0    0        0.1293\n",
      "1    1        0.5000\n"
     ]
    }
   ],
   "source": [
    "print(\"\\nQuery 2: Calculate the survival rate for each gender\")\n",
    "query_2 = \"\"\"\n",
    "SELECT Sex, AVG(Survived) AS SurvivalRate\n",
    "FROM titanic\n",
    "GROUP BY Sex\n",
    "\"\"\"\n",
    "result_2 = pd.read_sql_query(query_2, conn)\n",
    "print(result_2)"
   ]
  },
  {
   "cell_type": "code",
   "execution_count": 13,
   "id": "6c64a30c-44b6-4366-81a0-a403ce103566",
   "metadata": {},
   "outputs": [
    {
     "name": "stdout",
     "output_type": "stream",
     "text": [
      "\n",
      "Query 3: Find the top 5 passengers with the highest fares\n",
      "   Passengerid      Fare\n",
      "0          259  512.3292\n",
      "1          680  512.3292\n",
      "2          738  512.3292\n",
      "3         1235  512.3292\n",
      "4           28  263.0000\n"
     ]
    }
   ],
   "source": [
    "print(\"\\nQuery 3: Find the top 5 passengers with the highest fares\")\n",
    "query_3 = \"\"\"\n",
    "SELECT PassengerId, Fare\n",
    "FROM titanic\n",
    "ORDER BY Fare DESC\n",
    "LIMIT 5\n",
    "\"\"\"\n",
    "result_3 = pd.read_sql_query(query_3, conn)\n",
    "print(result_3)"
   ]
  },
  {
   "cell_type": "code",
   "execution_count": 14,
   "id": "7b9a5cb7-4408-4c25-9568-69299b3375fc",
   "metadata": {},
   "outputs": [],
   "source": [
    "# close the SQLite connection\n",
    "conn.close()"
   ]
  }
 ],
 "metadata": {
  "kernelspec": {
   "display_name": "Python 3 (ipykernel)",
   "language": "python",
   "name": "python3"
  },
  "language_info": {
   "codemirror_mode": {
    "name": "ipython",
    "version": 3
   },
   "file_extension": ".py",
   "mimetype": "text/x-python",
   "name": "python",
   "nbconvert_exporter": "python",
   "pygments_lexer": "ipython3",
   "version": "3.12.4"
  }
 },
 "nbformat": 4,
 "nbformat_minor": 5
}
